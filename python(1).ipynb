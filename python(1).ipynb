{
 "cells": [
  {
   "cell_type": "code",
   "execution_count": null,
   "id": "greatest-water",
   "metadata": {},
   "outputs": [],
   "source": [
    "def splitString(str):\n",
    "    a=\"\"\n",
    "    n=\"\"\n",
    "    s=\"\"\n",
    "    for i in range(len(str)):\n",
    "        if(str[i].isdigit()):\n",
    "            n=n+str[i]\n",
    "        elif(str[i].isalpha()):\n",
    "            a=a+str[i]\n",
    "        else:\n",
    "            s=s+str[i]\n",
    "    print(\"Alphabets in {}: {}\".format(str,a))\n",
    "    print(\"Numbers in {}: {}\".format(str,n))\n",
    "    print(\"Special characters in{}: {}\".format(str,s))\n",
    "    \n",
    "if __name__ == \"__main__\":\n",
    "    str=input(\"Given String is:\")\n",
    "    splitString(str)"
   ]
  },
  {
   "cell_type": "code",
   "execution_count": null,
   "id": "harmful-talent",
   "metadata": {},
   "outputs": [],
   "source": []
  }
 ],
 "metadata": {
  "kernelspec": {
   "display_name": "Python 3",
   "language": "python",
   "name": "python3"
  },
  "language_info": {
   "codemirror_mode": {
    "name": "ipython",
    "version": 3
   },
   "file_extension": ".py",
   "mimetype": "text/x-python",
   "name": "python",
   "nbconvert_exporter": "python",
   "pygments_lexer": "ipython3",
   "version": "3.7.8"
  }
 },
 "nbformat": 4,
 "nbformat_minor": 5
}
