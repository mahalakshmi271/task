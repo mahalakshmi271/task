{
 "cells": [
  {
   "cell_type": "code",
   "execution_count": 13,
   "id": "rotary-aberdeen",
   "metadata": {},
   "outputs": [
    {
     "name": "stdin",
     "output_type": "stream",
     "text": [
      " 1\n",
      " 2\n"
     ]
    },
    {
     "name": "stdout",
     "output_type": "stream",
     "text": [
      "Given numbers 1 are and 2 and its addtion is: 3 \n"
     ]
    }
   ],
   "source": [
    " from APSSDC.Demo import calsi \n",
    "x=int(input())\n",
    "z=int(input())\n",
    "h=calsi.add(x,z)\n",
    "\n",
    "print(\"Given numbers {} are and {} and its addtion is: {} \".format(x,z,h))\n",
    "\n"
   ]
  },
  {
   "cell_type": "code",
   "execution_count": null,
   "id": "representative-latest",
   "metadata": {},
   "outputs": [],
   "source": []
  }
 ],
 "metadata": {
  "kernelspec": {
   "display_name": "Python 3",
   "language": "python",
   "name": "python3"
  },
  "language_info": {
   "codemirror_mode": {
    "name": "ipython",
    "version": 3
   },
   "file_extension": ".py",
   "mimetype": "text/x-python",
   "name": "python",
   "nbconvert_exporter": "python",
   "pygments_lexer": "ipython3",
   "version": "3.7.8"
  }
 },
 "nbformat": 4,
 "nbformat_minor": 5
}
